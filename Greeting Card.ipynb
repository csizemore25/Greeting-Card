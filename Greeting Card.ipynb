{
 "cells": [
  {
   "cell_type": "markdown",
   "id": "3c27c80f",
   "metadata": {},
   "source": [
    "# Greeting Card Project \n",
    "\n",
    "## Caitlin Sizemore \n",
    "\n",
    "### CS 150-01 Fall 2022 "
   ]
  },
  {
   "cell_type": "code",
   "execution_count": null,
   "id": "3426689a",
   "metadata": {},
   "outputs": [
    {
     "name": "stdout",
     "output_type": "stream",
     "text": [
      "pygame 2.1.2 (SDL 2.0.18, Python 3.9.12)\n",
      "Hello from the pygame community. https://www.pygame.org/contribute.html\n",
      "Press 'p' to pause, 'r' to resume, 'e' to exit the program.\n"
     ]
    }
   ],
   "source": [
    "import pygame\n",
    "pygame.init()\n",
    "from pygame import mixer\n",
    "\n",
    "surface=pygame.display.set_mode((500,500))\n",
    "\n",
    "pygame.display.set_caption(\"Happy Holidays\")\n",
    "\n",
    "WHITE=(255, 255, 255)\n",
    "BLACK=(0, 0, 0)\n",
    "RED=(255, 0, 0)\n",
    "GREEN=(0, 255, 0)\n",
    "BLUE=(0, 0, 255)\n",
    "\n",
    "surface.fill(WHITE)\n",
    "\n",
    "pygame.display.flip() \n",
    "\n",
    "font=pygame.font.Font('freesansbold.ttf', 48)\n",
    "\n",
    "text=font.render(\"Happy Holidays!\", True, GREEN, WHITE)\n",
    "\n",
    "textRect=text.get_rect()\n",
    "X=500\n",
    "y=100\n",
    "textRect.center=(X//2, y//2)\n",
    "\n",
    "image=pygame.image.load(\"p.jpg\").convert()\n",
    "\n",
    "resized_image=pygame.transform.scale(image, (500,400))\n",
    "surface.blit(resized_image, (0,100))\n",
    "\n",
    "pygame.display.flip()\n",
    "\n",
    "mixer.init()\n",
    "\n",
    "mixer.music.load(\"greeting_card.mp3\")\n",
    "\n",
    "mixer.music.set_volume(0.6)\n",
    "\n",
    "mixer.music.play()\n",
    "\n",
    "\n",
    "active=True \n",
    "while active:\n",
    "    surface.blit(text, textRect)\n",
    "    \n",
    "    for event in pygame.event.get(): \n",
    "        if event.type==pygame.QUIT: \n",
    "            active=False\n",
    "    pygame.display.update()\n",
    "pygame.quit()\n",
    "\n",
    "while True: \n",
    "    print(\"Press 'p' to pause, 'r' to resume, 'e' to exit the program.\")\n",
    "    query=input(\" \")\n",
    "    \n",
    "    if query=='p': \n",
    "        mixer.music.pause()\n",
    "    elif query=='r': \n",
    "        mixer.music.unpause()\n",
    "    elif query=='e': \n",
    "        mixer.music.stop()\n",
    "        break"
   ]
  },
  {
   "cell_type": "code",
   "execution_count": null,
   "id": "f31e5e03",
   "metadata": {},
   "outputs": [],
   "source": []
  }
 ],
 "metadata": {
  "kernelspec": {
   "display_name": "Python 3 (ipykernel)",
   "language": "python",
   "name": "python3"
  },
  "language_info": {
   "codemirror_mode": {
    "name": "ipython",
    "version": 3
   },
   "file_extension": ".py",
   "mimetype": "text/x-python",
   "name": "python",
   "nbconvert_exporter": "python",
   "pygments_lexer": "ipython3",
   "version": "3.9.12"
  }
 },
 "nbformat": 4,
 "nbformat_minor": 5
}
